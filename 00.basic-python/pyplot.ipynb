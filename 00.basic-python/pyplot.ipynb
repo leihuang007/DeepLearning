{
 "cells": [
  {
   "cell_type": "code",
   "execution_count": null,
   "metadata": {},
   "outputs": [],
   "source": [
    "import matplotlib.pyplot as plt\n",
    "import numpy as np"
   ]
  },
  {
   "cell_type": "code",
   "execution_count": null,
   "metadata": {},
   "outputs": [],
   "source": [
    "# 在坐标上显示某一个点。第三个参数代表点的形状。^=三角，o=圆圈……前面还可以加颜色符号，譬如r=red\n",
    "# 如果需要分开展示，在每个plot后面加一个plt.show()即可\n",
    "# 如果首个参数是list类型，则横坐标是index，值为纵坐标。\n",
    "plt.plot(3,4, \"rX\")\n",
    "plt.plot(2,1, \"bo\")"
   ]
  },
  {
   "cell_type": "code",
   "execution_count": null,
   "metadata": {},
   "outputs": [],
   "source": [
    "# 增加legend\n",
    "plt.plot(3,4, \"rX\", label=\"red X\")\n",
    "plt.plot(2,1, \"bo\", label=\"blue dot\")\n",
    "plt.legend()\n",
    "# 或者使用\n",
    "# plt.legend(['red X', 'blue dot'])"
   ]
  },
  {
   "cell_type": "code",
   "execution_count": null,
   "metadata": {},
   "outputs": [],
   "source": [
    "# 画线\n",
    "x = [0, 6, 1]\n",
    "y = [2, -1,3]\n",
    "# 起点坐标(0,2),途经点(6,-1),终点坐标(1,3)\n",
    "# 第三个参数：位置一代表颜色，位置二代表点的形状，位置三代表连接各个点所用的线条形状（-,--,:）\n",
    "plt.plot(x, y, \"gX:\")"
   ]
  },
  {
   "cell_type": "code",
   "execution_count": null,
   "metadata": {},
   "outputs": [],
   "source": [
    "x = np.linspace(0, 2*np.pi, 101)\n",
    "y = np.sin(x)\n",
    "\n",
    "plt.plot(x, y, \"m:\")"
   ]
  },
  {
   "cell_type": "code",
   "execution_count": null,
   "metadata": {},
   "outputs": [],
   "source": [
    "# 练习：画一个字母。\n",
    "x = [0,2,4]\n",
    "y = [0,3,0]\n",
    "plt.plot(x, y, linewidth=3)\n",
    "x = [1,3]\n",
    "y = [1.5,1.5]\n",
    "plt.plot(x,y)\n",
    "# 坐标轴方方正正\n",
    "plt.axis('square')"
   ]
  },
  {
   "cell_type": "code",
   "execution_count": null,
   "metadata": {},
   "outputs": [],
   "source": [
    "# subplot(nrows, mcols, index)，将绘图区域划分为n行m列，紧随其后的plot放置在index的位置。\n",
    "plt.subplot(1,2,1)\n",
    "plt.plot(np.random.randn(10), \"rX-\")\n",
    "plt.subplot(1,2,2)\n",
    "plt.plot(np.random.randn(10))"
   ]
  },
  {
   "cell_type": "code",
   "execution_count": null,
   "metadata": {},
   "outputs": [],
   "source": [
    "# subplots(nrows, mcols), 创建一个n行m列的画板(geometry)，一个画框内可以放置多个图（叠加）\n",
    "fig, ax = plt.subplots(1, 2, figsize=(10, 3))\n",
    "x = np.arange(10)\n",
    "print(x)\n",
    "ax[0].plot(x, x**2, \"b\")\n",
    "ax[0].plot(x, x, 'k')\n",
    "\n",
    "ax[1].plot(x, np.sqrt(x), 'r')\n",
    "plt.show()"
   ]
  },
  {
   "cell_type": "code",
   "execution_count": null,
   "metadata": {},
   "outputs": [],
   "source": [
    "np.random.randn(4, 4)\n",
    "fig, ax = plt.subplots(2, 2)\n",
    "ax[0,0].plot(np.random.randn(4, 4))\n",
    "ax[0,1].plot(np.random.randn(4, 4))\n",
    "ax[1,0].plot(np.random.randn(4, 4))\n",
    "ax[1,1].plot(np.random.randn(4, 4))\n",
    "plt.tight_layout()"
   ]
  },
  {
   "cell_type": "code",
   "execution_count": null,
   "metadata": {},
   "outputs": [],
   "source": [
    "# 遍历所有的ax可以用flatten()方法。\n",
    "fig, ax = plt.subplots(3, 3)\n",
    "for i in ax.flatten():\n",
    "    i.plot(np.random.randn(4,4))\n",
    "plt.tight_layout()"
   ]
  },
  {
   "cell_type": "code",
   "execution_count": null,
   "metadata": {},
   "outputs": [],
   "source": [
    "# 美化图表\n",
    "x = np.linspace(-3, 3, 101)\n",
    "plt.plot(x, x, label=\"y=x\")\n",
    "plt.plot(x, x**2, label=\"y=x**2\")\n",
    "plt.plot(x, x**3, label=\"y=x**3\")\n",
    "\n",
    "plt.legend()\n",
    "plt.xlabel(\"X\")\n",
    "plt.ylabel(\"y=f(x)\")\n",
    "plt.title('A really awesome plot.')\n",
    "plt.xlim(x[0], x[-1])\n",
    "plt.ylim(-10, 10)\n",
    "# 设置坐标轴中横纵坐标单位长度的比值\n",
    "plt.gca().set_aspect(.1)"
   ]
  },
  {
   "cell_type": "code",
   "execution_count": null,
   "metadata": {},
   "outputs": [],
   "source": [
    "# 美化subplots的图表\n",
    "fig, ax = plt.subplots(1)\n",
    "x = np.linspace(-3, 3, 101)\n",
    "ax.plot(x, x, label=\"y=x\")\n",
    "ax.plot(x, x**2, label=\"y=x**2\")\n",
    "ax.plot(x, x**3, label=\"y=x**3\")\n",
    "\n",
    "ax.legend()\n",
    "ax.set_xlabel(\"X\")\n",
    "ax.set_ylabel(\"y=f(x)\")\n",
    "ax.set_title('A really awesome plot.')\n",
    "ax.set_xlim(x[0], x[-1])\n",
    "ax.set_ylim(-10, 10)\n",
    "# 设置坐标轴中横纵坐标单位长度的比值\n",
    "ax.set_aspect(.1)"
   ]
  },
  {
   "cell_type": "code",
   "execution_count": null,
   "metadata": {},
   "outputs": [],
   "source": [
    "fig, ax = plt.subplots()\n",
    "\n",
    "x = np.linspace(0, 10, 100)\n",
    "\n",
    "for i in np.linspace(0, 1, 50):\n",
    "    ax.plot(x, x**i, color=[i/2, 0, i])\n",
    "\n",
    "plt.show()"
   ]
  }
 ],
 "metadata": {
  "interpreter": {
   "hash": "2c9aac95fa8ed41299a7fb83821a59008ad1c9b299fd121f47a80fd90bfa7219"
  },
  "kernelspec": {
   "display_name": "Python 3.10.4 ('venv': venv)",
   "language": "python",
   "name": "python3"
  },
  "language_info": {
   "codemirror_mode": {
    "name": "ipython",
    "version": 3
   },
   "file_extension": ".py",
   "mimetype": "text/x-python",
   "name": "python",
   "nbconvert_exporter": "python",
   "pygments_lexer": "ipython3",
   "version": "3.10.4"
  },
  "orig_nbformat": 4
 },
 "nbformat": 4,
 "nbformat_minor": 2
}
